{
 "cells": [
  {
   "cell_type": "code",
   "execution_count": 20,
   "metadata": {},
   "outputs": [
    {
     "name": "stdout",
     "output_type": "stream",
     "text": [
      "['cricket', 'football', 'hockey', 'basketball']\n"
     ]
    }
   ],
   "source": [
    "#assigning elements to lists\n",
    "games=['cricket','football','hockey']\n",
    "games.append('basketball')\n",
    "print(games)"
   ]
  },
  {
   "cell_type": "code",
   "execution_count": 14,
   "metadata": {},
   "outputs": [
    {
     "name": "stdout",
     "output_type": "stream",
     "text": [
      "[1, 3, 4, 'number']\n"
     ]
    }
   ],
   "source": [
    "a=[1,3,4,6]\n",
    "a[3]=\"number\"\n",
    "print(a)"
   ]
  },
  {
   "cell_type": "code",
   "execution_count": 12,
   "metadata": {},
   "outputs": [
    {
     "name": "stdout",
     "output_type": "stream",
     "text": [
      "[10, 20, 30, 40, 50, 60, 70]\n"
     ]
    }
   ],
   "source": [
    "b=[10,20,30,40]\n",
    "b[4:7]=50,60,70\n",
    "print(b)"
   ]
  },
  {
   "cell_type": "code",
   "execution_count": 18,
   "metadata": {},
   "outputs": [
    {
     "name": "stdout",
     "output_type": "stream",
     "text": [
      "oneplus\n",
      "htc\n"
     ]
    }
   ],
   "source": [
    "#accesing elements from tuple\n",
    "tuple=(\"samsung\",\"redmi\",\"oneplus\",\"htc\")\n",
    "print(tuple[2])\n",
    "print(tuple[-1])"
   ]
  },
  {
   "cell_type": "code",
   "execution_count": 26,
   "metadata": {},
   "outputs": [
    {
     "name": "stdout",
     "output_type": "stream",
     "text": [
      "{'abhi': 1, 'manish': 16}\n"
     ]
    }
   ],
   "source": [
    "#deleting dictionary elements\n",
    "dict={\"abhi\":1,\"vinay\":2,\"josh\":4,\"manish\":16}\n",
    "del dict[\"josh\"]\n",
    "dict.pop(\"vinay\")\n",
    "print(dict)"
   ]
  },
  {
   "cell_type": "code",
   "execution_count": 28,
   "metadata": {},
   "outputs": [
    {
     "name": "stdout",
     "output_type": "stream",
     "text": [
      "{}\n"
     ]
    }
   ],
   "source": [
    "dict={'a':1,'b':2,'c':3}\n",
    "dict.clear()\n",
    "print(dict)"
   ]
  }
 ],
 "metadata": {
  "kernelspec": {
   "display_name": "Python 3",
   "language": "python",
   "name": "python3"
  },
  "language_info": {
   "codemirror_mode": {
    "name": "ipython",
    "version": 3
   },
   "file_extension": ".py",
   "mimetype": "text/x-python",
   "name": "python",
   "nbconvert_exporter": "python",
   "pygments_lexer": "ipython3",
   "version": "3.7.4"
  }
 },
 "nbformat": 4,
 "nbformat_minor": 2
}
